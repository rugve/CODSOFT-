{
  "nbformat": 4,
  "nbformat_minor": 0,
  "metadata": {
    "colab": {
      "provenance": []
    },
    "kernelspec": {
      "name": "python3",
      "display_name": "Python 3"
    },
    "language_info": {
      "name": "python"
    }
  },
  "cells": [
    {
      "cell_type": "code",
      "execution_count": null,
      "metadata": {
        "colab": {
          "base_uri": "https://localhost:8080/"
        },
        "id": "zOy9vs5flYBr",
        "outputId": "519c6eb3-59ba-4050-f994-5947cc91a325"
      },
      "outputs": [
        {
          "output_type": "stream",
          "name": "stdout",
          "text": [
            "\n",
            "Recommended Movies for User 1:\n",
            "     Title           Genre\n",
            "4  Movie E        Thriller\n",
            "5  Movie F           Drama\n",
            "3  Movie D  Comedy|Romance\n",
            "1  Movie B          Comedy\n",
            "\n",
            "Most Recommended Genre: Comedy\n",
            "\n",
            "Most Recommended Movie Title: Movie E\n",
            "\n",
            "\n",
            "\n",
            "Recommended Movies for User 2:\n",
            "     Title            Genre\n",
            "5  Movie F            Drama\n",
            "4  Movie E         Thriller\n",
            "2  Movie C  Action|Thriller\n",
            "0  Movie A           Action\n",
            "\n",
            "Most Recommended Genre: Action\n",
            "\n",
            "Most Recommended Movie Title: Movie F\n",
            "\n",
            "\n"
          ]
        }
      ],
      "source": [
        "import pandas as pd\n",
        "from sklearn.feature_extraction.text import TfidfVectorizer\n",
        "from sklearn.metrics.pairwise import linear_kernel\n",
        "\n",
        "# Sample data of movies\n",
        "movies_data = pd.DataFrame({\n",
        "    'MovieID': [1, 2, 3, 4, 5, 6],\n",
        "    'Title': ['Movie A', 'Movie B', 'Movie C', 'Movie D', 'Movie E', 'Movie F'],\n",
        "    'Genre': ['Action', 'Comedy', 'Action|Thriller', 'Comedy|Romance', 'Thriller', 'Drama']\n",
        "})\n",
        "\n",
        "# Sample data of users and their liked movies\n",
        "users_data = pd.DataFrame({\n",
        "    'UserID': [1, 2],\n",
        "    'LikedMovies': [['Movie A', 'Movie C'], ['Movie B', 'Movie D']]\n",
        "})\n",
        "\n",
        "tfidf_vectorizer = TfidfVectorizer(stop_words='english')\n",
        "tfidf_matrix = tfidf_vectorizer.fit_transform(movies_data['Genre'])\n",
        "\n",
        "cosine_sim = linear_kernel(tfidf_matrix, tfidf_matrix)\n",
        "\n",
        "def get_recommendations(user_likes, cosine_sim, movies_data):\n",
        "    movie_indices = []\n",
        "    for movie_title in user_likes:\n",
        "        movie_indices.append(movies_data.index[movies_data['Title'] == movie_title].tolist()[0])\n",
        "    sim_scores = cosine_sim[movie_indices].sum(axis=0)\n",
        "    recommended_indices = sim_scores.argsort()[::-1]\n",
        "    recommended_indices = [idx for idx in recommended_indices if idx not in movie_indices]\n",
        "    recommended_movies = movies_data[['Title', 'Genre']].iloc[recommended_indices]\n",
        "\n",
        "    return recommended_movies\n",
        "\n",
        "def get_user_recommendations(user_id, cosine_sim, movies_data, users_data):\n",
        "    user_likes = users_data.loc[users_data['UserID'] == user_id, 'LikedMovies'].iloc[0]\n",
        "    recommendations = get_recommendations(user_likes, cosine_sim, movies_data)\n",
        "    most_recommended_genre = recommendations['Genre'].mode().iloc[0]\n",
        "    most_recommended_title = recommendations['Title'].iloc[0]\n",
        "    return recommendations, most_recommended_genre, most_recommended_title\n",
        "\n",
        "# Get recommendations for each user\n",
        "for user_id in users_data['UserID']:\n",
        "    user_recommendations, most_recommended_genre, most_recommended_title = get_user_recommendations(user_id, cosine_sim, movies_data, users_data)\n",
        "    print(f\"\\nRecommended Movies for User {user_id}:\")\n",
        "    print(user_recommendations)\n",
        "    print(f\"\\nMost Recommended Genre: {most_recommended_genre}\")\n",
        "    print(f\"\\nMost Recommended Movie Title: {most_recommended_title}\")\n",
        "    print(\"\\n\")\n",
        "\n"
      ]
    }
  ]
}