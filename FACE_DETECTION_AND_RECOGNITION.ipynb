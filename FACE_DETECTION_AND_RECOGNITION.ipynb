{
  "nbformat": 4,
  "nbformat_minor": 0,
  "metadata": {
    "colab": {
      "provenance": []
    },
    "kernelspec": {
      "name": "python3",
      "display_name": "Python 3"
    },
    "language_info": {
      "name": "python"
    }
  },
  "cells": [
    {
      "cell_type": "code",
      "execution_count": 3,
      "metadata": {
        "colab": {
          "base_uri": "https://localhost:8080/"
        },
        "id": "1TKx-SuMris_",
        "outputId": "651a7863-82e1-4e54-801a-6d5b55608636"
      },
      "outputs": [
        {
          "output_type": "stream",
          "name": "stdout",
          "text": [
            "1/1 [==============================] - 1s 901ms/step\n",
            "1/1 [==============================] - 0s 68ms/step\n",
            "1/1 [==============================] - 0s 66ms/step\n",
            "Similarity with face 1: 0.9999998807907104\n",
            "Similarity with face 2: 0.18631242215633392\n"
          ]
        }
      ],
      "source": [
        "import cv2\n",
        "import numpy as np\n",
        "import tensorflow as tf\n",
        "from tensorflow.keras.models import load_model\n",
        "from tensorflow.keras.applications import MobileNetV2\n",
        "from tensorflow.keras.preprocessing.image import img_to_array, load_img\n",
        "from sklearn.metrics.pairwise import cosine_similarity\n",
        "\n",
        "face_cascade = cv2.CascadeClassifier(cv2.data.haarcascades + 'haarcascade_frontalface_default.xml')\n",
        "face_recognition_model = MobileNetV2(weights='imagenet', include_top=False, input_shape=(224, 224, 3))\n",
        "face_recognition_model.trainable = False\n",
        "\n",
        "def preprocess_image(image_path):\n",
        "    img = load_img(image_path, target_size=(224, 224))\n",
        "    img_array = img_to_array(img)\n",
        "    img_array = np.expand_dims(img_array, axis=0)\n",
        "    img_array = tf.keras.applications.mobilenet_v2.preprocess_input(img_array)\n",
        "    return img_array\n",
        "\n",
        "def detect_faces_from_video(video_path):\n",
        "    cap = cv2.VideoCapture(video_path)\n",
        "\n",
        "    while cap.isOpened():\n",
        "        ret, frame = cap.read()\n",
        "        if not ret:\n",
        "            break\n",
        "\n",
        "        gray = cv2.cvtColor(frame, cv2.COLOR_BGR2GRAY)\n",
        "        faces = face_cascade.detectMultiScale(gray, scaleFactor=1.1, minNeighbors=5, minSize=(30, 30))\n",
        "\n",
        "\n",
        "        for (x, y, w, h) in faces:\n",
        "            cv2.rectangle(frame, (x, y), (x+w, y+h), (255, 0, 0), 2)\n",
        "            cv2.putText(frame, 'Face Detected!', (x, y - 10), cv2.FONT_HERSHEY_SIMPLEX, 0.9, (36,255,12), 2)\n",
        "        cv2.imshow('Detected Faces in Video', frame)\n",
        "        if cv2.waitKey(1) & 0xFF == ord('q'):\n",
        "            break\n",
        "    cap.release()\n",
        "    cv2.destroyAllWindows()\n",
        "\n",
        "def recognize_faces(target_image_path, database_images):\n",
        "    target_image = preprocess_image(target_image_path)\n",
        "    target_embedding = face_recognition_model.predict(target_image)\n",
        "    similarities = []\n",
        "    for db_image_path in database_images:\n",
        "        db_image = preprocess_image(db_image_path)\n",
        "        db_embedding = face_recognition_model.predict(db_image)\n",
        "        similarity = cosine_similarity(target_embedding.reshape(1, -1), db_embedding.reshape(1, -1))[0][0]\n",
        "        similarities.append(similarity)\n",
        "    return similarities\n",
        "\n",
        "video_path = '/content/h.12.13 PM.mov'\n",
        "detect_faces_from_video(video_path)\n",
        "\n",
        "target_image_path = '/content/Unknown-1.jpeg'\n",
        "database_images = ['/content/Unknown-1.jpeg', '/content/Unknown-2 7.57.34 PM.jpeg']\n",
        "\n",
        "similarities = recognize_faces(target_image_path, database_images)\n",
        "\n",
        "for i, similarity in enumerate(similarities):\n",
        "    print(f\"Similarity with face {i+1}: {similarity}\")\n"
      ]
    }
  ]
}